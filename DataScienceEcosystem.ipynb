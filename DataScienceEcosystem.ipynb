{
 "cells": [
  {
   "cell_type": "markdown",
   "id": "0f85fa44-e178-4a84-ba40-330d794eb9b0",
   "metadata": {},
   "source": [
    "# Data Science Tools and Ecosystem"
   ]
  },
  {
   "cell_type": "markdown",
   "id": "94294495-767a-4097-b8ca-94fc86de130a",
   "metadata": {},
   "source": [
    "In this notebook, Data Science Tools and Ecosystem are summarized."
   ]
  },
  {
   "cell_type": "markdown",
   "id": "d52c674e-59ce-4933-987e-d434ad4e3f0a",
   "metadata": {},
   "source": [
    "__Objectives:__\n",
    "\n",
    "* List popular languages for Data Science.\n",
    "* List commonly used libraries in Data Science\n",
    "* List Data Science tool Open source"
   ]
  },
  {
   "cell_type": "markdown",
   "id": "8c8c4991-2008-4aae-b6d6-398465ed9d6d",
   "metadata": {},
   "source": [
    "Some of the popular languages that Data Scientists use are:"
   ]
  },
  {
   "cell_type": "markdown",
   "id": "726ea5dd-bd89-477c-a49e-4d63a6a44dd6",
   "metadata": {},
   "source": [
    "1. Python\n",
    "2. R\n",
    "3. Ruby"
   ]
  },
  {
   "cell_type": "markdown",
   "id": "e532da50-6459-4e5b-b0af-f88f140c13c4",
   "metadata": {},
   "source": [
    "Some of the commonly used libraries used by Data Scientists include:"
   ]
  },
  {
   "cell_type": "markdown",
   "id": "a4cd2dbb-bd73-4be3-bf4a-1d22295b6d45",
   "metadata": {},
   "source": [
    "1. dplyr\n",
    "2. stringr\n",
    "3. ggplot"
   ]
  },
  {
   "cell_type": "markdown",
   "id": "bdb63b62-4ea2-4d4f-82e2-4a2fb8188829",
   "metadata": {},
   "source": [
    "| Data Science Tools. |\n",
    "| ---- |\n",
    "| Jupyter Notebook |\n",
    "| Vs Code |\n",
    "| RStudio |"
   ]
  },
  {
   "cell_type": "markdown",
   "id": "6b1b87d1-dcbe-4ced-91ae-49b242783156",
   "metadata": {},
   "source": [
    "### Below are a few examples of evaluating arithmetic expressions in Python."
   ]
  },
  {
   "cell_type": "code",
   "execution_count": 2,
   "id": "e017a77b-67fd-462e-8706-9e27009a3809",
   "metadata": {},
   "outputs": [
    {
     "data": {
      "text/plain": [
       "17"
      ]
     },
     "execution_count": 2,
     "metadata": {},
     "output_type": "execute_result"
    }
   ],
   "source": [
    "#This a simple arithmetic expression to mutiply then add integers.\n",
    "\n",
    "(3*4)+5\n"
   ]
  },
  {
   "cell_type": "code",
   "execution_count": 3,
   "id": "ab24b274-6c8a-499e-94b4-a63758ad2ed2",
   "metadata": {},
   "outputs": [
    {
     "data": {
      "text/plain": [
       "3.3333333333333335"
      ]
     },
     "execution_count": 3,
     "metadata": {},
     "output_type": "execute_result"
    }
   ],
   "source": [
    "#This will convert 200 minutes to hours by diving by 60.\n",
    "\n",
    "200/60\n"
   ]
  },
  {
   "cell_type": "markdown",
   "id": "3f5fa7b5-50cb-4872-92b1-7ede0cb93d63",
   "metadata": {},
   "source": [
    "## Author\n",
    "\n",
    "Jose Hidalgo"
   ]
  },
  {
   "cell_type": "code",
   "execution_count": null,
   "id": "547d46d2-78c9-4769-9e7e-13dc12240290",
   "metadata": {},
   "outputs": [],
   "source": []
  }
 ],
 "metadata": {
  "kernelspec": {
   "display_name": "Python [conda env:base] *",
   "language": "python",
   "name": "conda-base-py"
  },
  "language_info": {
   "codemirror_mode": {
    "name": "ipython",
    "version": 3
   },
   "file_extension": ".py",
   "mimetype": "text/x-python",
   "name": "python",
   "nbconvert_exporter": "python",
   "pygments_lexer": "ipython3",
   "version": "3.13.5"
  }
 },
 "nbformat": 4,
 "nbformat_minor": 5
}
